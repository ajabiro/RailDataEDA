{
 "cells": [
  {
   "cell_type": "code",
   "execution_count": 1,
   "id": "2ccd76b0",
   "metadata": {},
   "outputs": [],
   "source": [
    "import pandas as pd\n",
    "import numpy as np\n",
    "import seaborn as sns\n",
    "import matplotlib.pyplot as plt\n",
    "\n",
    "%matplotlib inline"
   ]
  },
  {
   "cell_type": "code",
   "execution_count": 2,
   "id": "0da68059",
   "metadata": {},
   "outputs": [],
   "source": [
    "df = pd.read_parquet('rail_data_cleaned_20230728132300.parquet')"
   ]
  },
  {
   "cell_type": "code",
   "execution_count": 3,
   "id": "5da90ae2",
   "metadata": {},
   "outputs": [
    {
     "data": {
      "text/html": [
       "<div>\n",
       "<style scoped>\n",
       "    .dataframe tbody tr th:only-of-type {\n",
       "        vertical-align: middle;\n",
       "    }\n",
       "\n",
       "    .dataframe tbody tr th {\n",
       "        vertical-align: top;\n",
       "    }\n",
       "\n",
       "    .dataframe thead th {\n",
       "        text-align: right;\n",
       "    }\n",
       "</style>\n",
       "<table border=\"1\" class=\"dataframe\">\n",
       "  <thead>\n",
       "    <tr style=\"text-align: right;\">\n",
       "      <th></th>\n",
       "      <th>route_id</th>\n",
       "      <th>unique_id</th>\n",
       "      <th>service_start_date</th>\n",
       "      <th>update_origin</th>\n",
       "      <th>train_platform</th>\n",
       "      <th>working_time_pass</th>\n",
       "      <th>working_time_arrival</th>\n",
       "      <th>working_time_departure</th>\n",
       "      <th>planned_time_arrival</th>\n",
       "      <th>planned_time_departure</th>\n",
       "      <th>pass</th>\n",
       "      <th>platform</th>\n",
       "      <th>train_length</th>\n",
       "      <th>actual_arrival_time</th>\n",
       "      <th>actual_departure_time</th>\n",
       "      <th>is_delayed_arrival</th>\n",
       "      <th>is_delayed_departure</th>\n",
       "    </tr>\n",
       "  </thead>\n",
       "  <tbody>\n",
       "    <tr>\n",
       "      <th>8</th>\n",
       "      <td>202307277679020</td>\n",
       "      <td>L79020</td>\n",
       "      <td>2023-07-27</td>\n",
       "      <td>Darwin</td>\n",
       "      <td>STFD</td>\n",
       "      <td>NaT</td>\n",
       "      <td>2023-07-27 00:03:00</td>\n",
       "      <td>2023-07-27 00:03:30</td>\n",
       "      <td>NaT</td>\n",
       "      <td>NaT</td>\n",
       "      <td>None</td>\n",
       "      <td>5</td>\n",
       "      <td>None</td>\n",
       "      <td>2023-07-27 00:53:00</td>\n",
       "      <td>2023-07-27 00:53:00</td>\n",
       "      <td>True</td>\n",
       "      <td>True</td>\n",
       "    </tr>\n",
       "    <tr>\n",
       "      <th>10</th>\n",
       "      <td>202307277679020</td>\n",
       "      <td>L79020</td>\n",
       "      <td>2023-07-27</td>\n",
       "      <td>Darwin</td>\n",
       "      <td>SPNY205</td>\n",
       "      <td>NaT</td>\n",
       "      <td>2023-07-27 00:07:00</td>\n",
       "      <td>2023-07-27 00:13:30</td>\n",
       "      <td>NaT</td>\n",
       "      <td>NaT</td>\n",
       "      <td>None</td>\n",
       "      <td>None</td>\n",
       "      <td>None</td>\n",
       "      <td>2023-07-27 00:57:00</td>\n",
       "      <td>2023-07-27 00:58:00</td>\n",
       "      <td>True</td>\n",
       "      <td>True</td>\n",
       "    </tr>\n",
       "    <tr>\n",
       "      <th>16</th>\n",
       "      <td>202307277679020</td>\n",
       "      <td>L79020</td>\n",
       "      <td>2023-07-27</td>\n",
       "      <td>Darwin</td>\n",
       "      <td>PADTLL</td>\n",
       "      <td>NaT</td>\n",
       "      <td>2023-07-27 00:30:30</td>\n",
       "      <td>2023-07-27 00:31:00</td>\n",
       "      <td>NaT</td>\n",
       "      <td>NaT</td>\n",
       "      <td>None</td>\n",
       "      <td>B</td>\n",
       "      <td>None</td>\n",
       "      <td>2023-07-27 01:07:00</td>\n",
       "      <td>2023-07-27 01:07:00</td>\n",
       "      <td>True</td>\n",
       "      <td>True</td>\n",
       "    </tr>\n",
       "    <tr>\n",
       "      <th>17</th>\n",
       "      <td>202307277679020</td>\n",
       "      <td>L79020</td>\n",
       "      <td>2023-07-27</td>\n",
       "      <td>Darwin</td>\n",
       "      <td>WBRNPKS</td>\n",
       "      <td>NaT</td>\n",
       "      <td>2023-07-27 00:33:00</td>\n",
       "      <td>2023-07-27 00:35:00</td>\n",
       "      <td>NaT</td>\n",
       "      <td>NaT</td>\n",
       "      <td>None</td>\n",
       "      <td>A</td>\n",
       "      <td>None</td>\n",
       "      <td>2023-07-27 01:09:00</td>\n",
       "      <td>2023-07-27 01:10:00</td>\n",
       "      <td>True</td>\n",
       "      <td>True</td>\n",
       "    </tr>\n",
       "    <tr>\n",
       "      <th>22</th>\n",
       "      <td>202307277674553</td>\n",
       "      <td>L74553</td>\n",
       "      <td>2023-07-27</td>\n",
       "      <td>TD</td>\n",
       "      <td>SVNOAKS</td>\n",
       "      <td>NaT</td>\n",
       "      <td>2023-07-27 21:53:00</td>\n",
       "      <td>2023-07-27 21:54:30</td>\n",
       "      <td>2023-07-27 21:53:00</td>\n",
       "      <td>2023-07-27 21:54:00</td>\n",
       "      <td>None</td>\n",
       "      <td>1</td>\n",
       "      <td>8</td>\n",
       "      <td>NaT</td>\n",
       "      <td>NaT</td>\n",
       "      <td>False</td>\n",
       "      <td>False</td>\n",
       "    </tr>\n",
       "  </tbody>\n",
       "</table>\n",
       "</div>"
      ],
      "text/plain": [
       "           route_id unique_id service_start_date update_origin train_platform  \\\n",
       "8   202307277679020    L79020         2023-07-27        Darwin           STFD   \n",
       "10  202307277679020    L79020         2023-07-27        Darwin        SPNY205   \n",
       "16  202307277679020    L79020         2023-07-27        Darwin         PADTLL   \n",
       "17  202307277679020    L79020         2023-07-27        Darwin        WBRNPKS   \n",
       "22  202307277674553    L74553         2023-07-27            TD        SVNOAKS   \n",
       "\n",
       "   working_time_pass working_time_arrival working_time_departure  \\\n",
       "8                NaT  2023-07-27 00:03:00    2023-07-27 00:03:30   \n",
       "10               NaT  2023-07-27 00:07:00    2023-07-27 00:13:30   \n",
       "16               NaT  2023-07-27 00:30:30    2023-07-27 00:31:00   \n",
       "17               NaT  2023-07-27 00:33:00    2023-07-27 00:35:00   \n",
       "22               NaT  2023-07-27 21:53:00    2023-07-27 21:54:30   \n",
       "\n",
       "   planned_time_arrival planned_time_departure  pass platform train_length  \\\n",
       "8                   NaT                    NaT  None        5         None   \n",
       "10                  NaT                    NaT  None     None         None   \n",
       "16                  NaT                    NaT  None        B         None   \n",
       "17                  NaT                    NaT  None        A         None   \n",
       "22  2023-07-27 21:53:00    2023-07-27 21:54:00  None        1            8   \n",
       "\n",
       "   actual_arrival_time actual_departure_time  is_delayed_arrival  \\\n",
       "8  2023-07-27 00:53:00   2023-07-27 00:53:00                True   \n",
       "10 2023-07-27 00:57:00   2023-07-27 00:58:00                True   \n",
       "16 2023-07-27 01:07:00   2023-07-27 01:07:00                True   \n",
       "17 2023-07-27 01:09:00   2023-07-27 01:10:00                True   \n",
       "22                 NaT                   NaT               False   \n",
       "\n",
       "    is_delayed_departure  \n",
       "8                   True  \n",
       "10                  True  \n",
       "16                  True  \n",
       "17                  True  \n",
       "22                 False  "
      ]
     },
     "execution_count": 3,
     "metadata": {},
     "output_type": "execute_result"
    }
   ],
   "source": [
    "df.head()"
   ]
  },
  {
   "cell_type": "code",
   "execution_count": null,
   "id": "25216d98",
   "metadata": {},
   "outputs": [],
   "source": [
    "# Analyzing Train Length to see if there is a correlation between the length of train and its arrival/departure time."
   ]
  },
  {
   "cell_type": "code",
   "execution_count": 47,
   "id": "43ca6700",
   "metadata": {},
   "outputs": [
    {
     "data": {
      "text/plain": [
       "array([None, '8', '2', '5', '10', '6', '4', '12', '3', '7', '11', '9'],\n",
       "      dtype=object)"
      ]
     },
     "execution_count": 47,
     "metadata": {},
     "output_type": "execute_result"
    }
   ],
   "source": [
    "df.train_length.unique()"
   ]
  },
  {
   "cell_type": "code",
   "execution_count": 48,
   "id": "6a9f2934",
   "metadata": {},
   "outputs": [],
   "source": [
    "delayed_arrivals = df[df['is_delayed_arrival'] == True]['train_length'].value_counts().sort_values(ascending=True)"
   ]
  },
  {
   "cell_type": "code",
   "execution_count": 69,
   "id": "90abffff",
   "metadata": {},
   "outputs": [
    {
     "name": "stdout",
     "output_type": "stream",
     "text": [
      "10     12\n",
      "3      31\n",
      "12     46\n",
      "6      53\n",
      "5      57\n",
      "4      90\n",
      "8     284\n",
      "Name: train_length, dtype: int64\n"
     ]
    }
   ],
   "source": [
    "print(delayed_arrivals)"
   ]
  },
  {
   "cell_type": "code",
   "execution_count": 70,
   "id": "f7b785b2",
   "metadata": {},
   "outputs": [],
   "source": [
    "delayed_departures = df[df['is_delayed_departure'] == True]['train_length'].value_counts().sort_values(ascending=True)"
   ]
  },
  {
   "cell_type": "code",
   "execution_count": 71,
   "id": "85e912b4",
   "metadata": {},
   "outputs": [
    {
     "data": {
      "text/plain": [
       "10     13\n",
       "3      38\n",
       "12     50\n",
       "6      56\n",
       "5      59\n",
       "4      99\n",
       "8     325\n",
       "Name: train_length, dtype: int64"
      ]
     },
     "execution_count": 71,
     "metadata": {},
     "output_type": "execute_result"
    }
   ],
   "source": [
    "delayed_departures"
   ]
  },
  {
   "cell_type": "code",
   "execution_count": 90,
   "id": "3dcf72b2",
   "metadata": {},
   "outputs": [],
   "source": [
    "delayed_count_df = pd.DataFrame({'Delayed Arrivals': delayed_arrivals, 'Delayed Departures': delayed_departures})"
   ]
  },
  {
   "cell_type": "code",
   "execution_count": 91,
   "id": "126b1fdb",
   "metadata": {},
   "outputs": [
    {
     "data": {
      "image/png": "[encoded data removed]",
      "text/plain": [
       "<Figure size 640x480 with 1 Axes>"
      ]
     },
     "metadata": {},
     "output_type": "display_data"
    }
   ],
   "source": [
    "delayed_count_df.plot(kind='bar')\n",
    "plt.xlabel('Train Length (Number of Cars)')\n",
    "plt.ylabel('Delayed Count')\n",
    "plt.title('Delayed Arrivals and Departures by Train Length')\n",
    "plt.show()"
   ]
  },
  {
   "cell_type": "code",
   "execution_count": null,
   "id": "ce7de404",
   "metadata": {},
   "outputs": [],
   "source": [
    "non_delayed_arrivals = df[df['is_delayed_arrival'] == False]['train_length'].value_counts().sort_values(ascending=True)"
   ]
  },
  {
   "cell_type": "code",
   "execution_count": null,
   "id": "1f9eb2a7",
   "metadata": {},
   "outputs": [],
   "source": [
    "non_delayed_departures = df[df['is_delayed_departure'] == False]['train_length'].value_counts().sort_values(ascending=True)"
   ]
  },
  {
   "cell_type": "code",
   "execution_count": null,
   "id": "6f4edfa0",
   "metadata": {},
   "outputs": [],
   "source": [
    "non_delayed_count_df = pd.DataFrame({'Delayed Arrivals': non_delayed_arrivals, 'Delayed Departures': non_delayed_departures})"
   ]
  },
  {
   "cell_type": "code",
   "execution_count": null,
   "id": "8600e8aa",
   "metadata": {},
   "outputs": [],
   "source": [
    "non_delayed_count_df.plot(kind='bar')\n",
    "plt.xlabel('Train Length (Number of Cars)')\n",
    "plt.ylabel('Count')\n",
    "plt.title('Non Delayed Arrivals and Departures by Train Length')\n",
    "plt.show()"
   ]
  },
  {
   "cell_type": "code",
   "execution_count": 108,
   "id": "28e7158b",
   "metadata": {},
   "outputs": [],
   "source": [
    "# count_df=count_df.sort_index()"
   ]
  },
  {
   "cell_type": "code",
   "execution_count": 115,
   "id": "534d0a70",
   "metadata": {},
   "outputs": [],
   "source": [
    "count_df = pd.DataFrame({'Delayed Arrivals': delayed_arrivals, 'Delayed Departures': delayed_departures, 'Non Delayed Arrivals': non_delayed_arrivals, 'Non Delayed Departures': non_delayed_departures})"
   ]
  },
  {
   "cell_type": "code",
   "execution_count": 116,
   "id": "65b5e7a2",
   "metadata": {},
   "outputs": [
    {
     "data": {
      "image/png": "[encoded data removed]",
      "text/plain": [
       "<Figure size 640x480 with 1 Axes>"
      ]
     },
     "metadata": {},
     "output_type": "display_data"
    }
   ],
   "source": [
    "count_df.plot(kind='bar')\n",
    "plt.xlabel('Train Length (Number of Cars)')\n",
    "plt.ylabel('Count')\n",
    "plt.title('Arrivals and Departures by Train Length')\n",
    "plt.show()"
   ]
  }
 ],
 "metadata": {
  "kernelspec": {
   "display_name": "Python 3 (ipykernel)",
   "language": "python",
   "name": "python3"
  },
  "language_info": {
   "codemirror_mode": {
    "name": "ipython",
    "version": 3
   },
   "file_extension": ".py",
   "mimetype": "text/x-python",
   "name": "python",
   "nbconvert_exporter": "python",
   "pygments_lexer": "ipython3",
   "version": "3.11.4"
  }
 },
 "nbformat": 4,
 "nbformat_minor": 5
}
